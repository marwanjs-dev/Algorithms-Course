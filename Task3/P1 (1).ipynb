{
 "cells": [
  {
   "cell_type": "markdown",
   "metadata": {},
   "source": [
    "# Problem 1: The Mysterious Function"
   ]
  },
  {
   "cell_type": "markdown",
   "metadata": {},
   "source": [
    "CSCI208: Analysis and Design of Algorithms<br>\n",
    "Contacts: Ammar Sherif (ASherif)<br>\n",
    "Nile University<br>\n",
    "Assignment 1"
   ]
  },
  {
   "cell_type": "markdown",
   "metadata": {},
   "source": [
    "## Table of Contents:"
   ]
  },
  {
   "cell_type": "markdown",
   "metadata": {},
   "source": [
    "- [Problem Statement](#Problem-Statement)\n",
    "- <a href=\"#a)-Algorithm-Implementation\">Algorithm Implementation</a>\n",
    "- <a href=\"#b)-Trying-the-Algorithm\">Trying the Algorithm</a>\n",
    "- <a href=\"#c)-Proof\">Proof</a>\n",
    "- <a href=\"#d)-Growth-Curve\">Growth Curve</a>\n"
   ]
  },
  {
   "cell_type": "markdown",
   "metadata": {},
   "source": [
    "## Problem Statement"
   ]
  },
  {
   "cell_type": "markdown",
   "metadata": {},
   "source": [
    "We have an algorithm that is defined as follows: <br>\n",
    "**Input:**\n",
    "$$\\boxed{n \\in \\mathbb{Z}: \\quad n \\leq 222}$$\n",
    "\n",
    "Mysterious-Function$(n)$: <br>\n",
    "$\\quad$**if** $n\\geq222$ **then**<br>\n",
    "$\\quad$$\\quad$ **return** $n-14$<br>\n",
    "$\\quad$**else**<br>\n",
    "$\\quad$$\\quad$**return** Mysterious-Function$($Mysterious-Function $(n+15))$<br>\n",
    "$\\quad$**endif**"
   ]
  },
  {
   "cell_type": "markdown",
   "metadata": {},
   "source": [
    "## a) Algorithm Implementation"
   ]
  },
  {
   "cell_type": "code",
   "execution_count": 3,
   "metadata": {},
   "outputs": [],
   "source": [
    "# write your implementation here\n",
    "def Mysterious(n):\n",
    "    if n >= 222:\n",
    "        return n-14\n",
    "    else :\n",
    "        return Mysterious(Mysterious(n+15))"
   ]
  },
  {
   "cell_type": "markdown",
   "metadata": {},
   "source": [
    "## b) Trying the Algorithm"
   ]
  },
  {
   "cell_type": "code",
   "execution_count": 4,
   "metadata": {
    "scrolled": true
   },
   "outputs": [
    {
     "name": "stdout",
     "output_type": "stream",
     "text": [
      "208\n",
      "208\n",
      "208\n",
      "208\n",
      "208\n",
      "208\n",
      "208\n",
      "208\n",
      "208\n",
      "208\n",
      "208\n",
      "208\n",
      "208\n",
      "208\n",
      "208\n",
      "208\n",
      "208\n",
      "208\n",
      "208\n",
      "208\n",
      "208\n",
      "208\n",
      "208\n",
      "208\n",
      "208\n",
      "208\n",
      "208\n",
      "208\n",
      "208\n",
      "208\n",
      "208\n",
      "208\n",
      "208\n",
      "208\n",
      "208\n",
      "208\n",
      "208\n",
      "208\n",
      "208\n",
      "208\n",
      "208\n",
      "208\n",
      "208\n",
      "208\n",
      "208\n",
      "208\n",
      "208\n",
      "208\n",
      "208\n",
      "208\n",
      "208\n",
      "208\n",
      "208\n",
      "208\n",
      "208\n",
      "208\n",
      "208\n",
      "208\n",
      "208\n",
      "208\n",
      "208\n",
      "208\n",
      "208\n",
      "208\n",
      "208\n",
      "208\n",
      "208\n",
      "208\n",
      "208\n",
      "208\n",
      "208\n",
      "208\n",
      "208\n",
      "208\n",
      "208\n",
      "208\n",
      "208\n",
      "208\n",
      "208\n",
      "208\n",
      "208\n",
      "208\n",
      "208\n",
      "208\n",
      "208\n",
      "208\n",
      "208\n",
      "208\n",
      "208\n",
      "208\n",
      "208\n",
      "208\n",
      "208\n",
      "208\n",
      "208\n",
      "208\n",
      "208\n",
      "208\n",
      "208\n",
      "208\n",
      "208\n",
      "208\n",
      "208\n",
      "208\n",
      "208\n",
      "208\n",
      "208\n",
      "208\n",
      "208\n",
      "208\n",
      "208\n",
      "208\n",
      "208\n",
      "208\n",
      "208\n",
      "208\n",
      "208\n",
      "208\n",
      "208\n",
      "208\n",
      "208\n",
      "208\n",
      "208\n",
      "208\n",
      "208\n",
      "208\n",
      "208\n",
      "208\n",
      "208\n",
      "208\n",
      "208\n",
      "208\n",
      "208\n",
      "208\n",
      "208\n",
      "208\n",
      "208\n",
      "208\n",
      "208\n",
      "208\n",
      "208\n",
      "208\n",
      "208\n",
      "208\n",
      "208\n",
      "208\n",
      "208\n",
      "208\n",
      "208\n",
      "208\n",
      "208\n",
      "208\n",
      "208\n",
      "208\n",
      "208\n",
      "208\n",
      "208\n",
      "208\n",
      "208\n",
      "208\n",
      "208\n",
      "208\n",
      "208\n",
      "208\n",
      "208\n",
      "208\n",
      "208\n",
      "208\n",
      "208\n",
      "208\n",
      "208\n",
      "208\n",
      "208\n",
      "208\n",
      "208\n",
      "208\n",
      "208\n",
      "208\n",
      "208\n",
      "208\n",
      "208\n",
      "208\n",
      "208\n",
      "208\n",
      "208\n",
      "208\n",
      "208\n",
      "208\n",
      "208\n",
      "208\n",
      "208\n",
      "208\n",
      "208\n",
      "208\n",
      "208\n",
      "208\n",
      "208\n",
      "208\n",
      "208\n",
      "208\n",
      "208\n",
      "208\n",
      "208\n",
      "208\n",
      "208\n",
      "208\n",
      "208\n",
      "208\n",
      "208\n",
      "208\n",
      "208\n",
      "208\n",
      "208\n",
      "208\n",
      "208\n",
      "208\n",
      "208\n",
      "208\n",
      "208\n",
      "208\n",
      "208\n",
      "208\n",
      "208\n"
     ]
    }
   ],
   "source": [
    "# use some inputs, and see the pattern of the resulted output\n",
    "# Then, state your hypothesis clearly\n",
    "for i in range(0,223):\n",
    "    print(Mysterious(i))"
   ]
  },
  {
   "cell_type": "code",
   "execution_count": 5,
   "metadata": {},
   "outputs": [
    {
     "name": "stdout",
     "output_type": "stream",
     "text": [
      "208\n"
     ]
    }
   ],
   "source": [
    "print(236-14-14)"
   ]
  },
  {
   "cell_type": "markdown",
   "metadata": {},
   "source": [
    "## c) Proof"
   ]
  },
  {
   "cell_type": "markdown",
   "metadata": {},
   "source": [
    "To submit your proof here, you have multiple options as follows:\n",
    "- Write your proof here in the notebook using LaTeX [*Preferred*]\n",
    "- Write your proof in any other application, any word processing application, and take a screenshot of your proof; then, put it here as an image\n",
    "- Write your proof by hand, and take a photo of your solution and put it here as an image [**least preferred**]<br>Make sure your write is clear enough; we would not return to ask for a clarification."
   ]
  },
  {
   "cell_type": "markdown",
   "metadata": {},
   "source": [
    "# Hypothesis:\n",
    "* ### let P be the Mysterious function\n",
    "* ### $ \\forall{n \\leq 222} \\quad (P(n) = 208)$\n",
    "# Base Case:\n",
    "* ### $ P(0) = 208 $\n",
    "# Inductionn Step:\n",
    "* ### we want to show that $$ P(k) \\implies P(k+1) $$\n",
    "* ### assuming that P(k+1) = L(k)\n",
    "* ### $$ P(k) \\implies $$\n",
    "* \n",
    "\\begin{equation}\n",
    "   P(k+1) =\\begin{cases}\n",
    "     L(k) = 208 , & \\text{if $ \\text{k} \\leq 222 $}.\\\\\n",
    "    L(k) > 208, & \\text{otherwise}.\n",
    "  \\end{cases}\n",
    "\\end{equation}\n",
    "\n",
    "----------------------------------------------------------------------------------\n",
    "$$ = P(P(\\texttt{L}\\rvert_{0:k-1}),L[k])  \\qquad \\text{while k} \\leq 222 $$\n",
    "------------------------------------------------------------------------\n",
    "$$ P(P\\underbrace{(L[0],L[1],\\cdots,L[k-1])}_{same values of P(k)},\\underbrace{L[k]}_{new value})$$\n",
    "$$ P(P(L[0],L[1],\\cdots),L[k]) $$\n",
    "Therefore, after the end of this iteration the variable\n",
    "$$\\underbrace{\\texttt{P(k+1)} = P(A[0],L[1],\\cdots,L[k])}_{P(k+1)} = 208  \\qquad while K \\leq 222$$ \n",
    "$$\\boxed{P(k) \\implies P(k+1)}$$"
   ]
  },
  {
   "cell_type": "markdown",
   "metadata": {},
   "source": [
    "## d) Growth Curve"
   ]
  },
  {
   "cell_type": "markdown",
   "metadata": {},
   "source": [
    "Empirically, using *time measurements*, test your algorithm and **plot a graph** that shows its growth rate when variating the input.<br>\n",
    "**Note**: your input should be within the input range $\\boxed{n \\leq 222}$"
   ]
  },
  {
   "cell_type": "code",
   "execution_count": 6,
   "metadata": {},
   "outputs": [],
   "source": [
    "%matplotlib inline\n",
    "\n",
    "import matplotlib\n",
    "import matplotlib.pyplot as plt\n",
    "import time"
   ]
  },
  {
   "cell_type": "code",
   "execution_count": 7,
   "metadata": {},
   "outputs": [],
   "source": [
    "times = []\n",
    "for n in range(223):\n",
    "    start_time = time.time()\n",
    "    Mysterious(n)\n",
    "    # Total time = end - start\n",
    "    execution_time_ns = (time.time() - start_time)*(10**9)\n",
    "    times.append(execution_time_ns)"
   ]
  },
  {
   "cell_type": "code",
   "execution_count": 8,
   "metadata": {},
   "outputs": [
    {
     "name": "stderr",
     "output_type": "stream",
     "text": [
      "No handles with labels found to put in legend.\n"
     ]
    },
    {
     "data": {
      "image/png": "[encoded data removed]",
      "text/plain": [
       "<Figure size 1080x720 with 1 Axes>"
      ]
     },
     "metadata": {
      "needs_background": "light"
     },
     "output_type": "display_data"
    }
   ],
   "source": [
    "f,ax = plt.subplots(figsize=(15, 10))\n",
    "ax.plot(range(223),times)\n",
    "ax.set_xlabel('$n$')\n",
    "ax.set_ylabel('Time: nano seconds')\n",
    "ax.legend(loc=0);"
   ]
  },
  {
   "cell_type": "markdown",
   "metadata": {},
   "source": [
    "### this plot shows that the worst case is a 0 input and the best case is 222 because 0 takes more recursive calls to reach the output 208 than the greater numbers"
   ]
  }
 ],
 "metadata": {
  "kernelspec": {
   "display_name": "Python 3",
   "language": "python",
   "name": "python3"
  },
  "language_info": {
   "codemirror_mode": {
    "name": "ipython",
    "version": 3
   },
   "file_extension": ".py",
   "mimetype": "text/x-python",
   "name": "python",
   "nbconvert_exporter": "python",
   "pygments_lexer": "ipython3",
   "version": "3.8.8"
  }
 },
 "nbformat": 4,
 "nbformat_minor": 1
}
