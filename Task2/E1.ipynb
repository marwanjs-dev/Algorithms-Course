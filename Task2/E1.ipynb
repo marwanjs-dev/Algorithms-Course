{
 "cells": [
  {
   "cell_type": "markdown",
   "metadata": {},
   "source": [
    "# Exercise 1: Prove by Contrapositive"
   ]
  },
  {
   "cell_type": "markdown",
   "metadata": {},
   "source": [
    "CSCI208: Analysis and Design of Algorithms<br>\n",
    "Nile University<br>\n",
    "Ammar Sherif (email: ASherif [at] nu.edu.eg, office: 229)<br>\n",
    "Module 02"
   ]
  },
  {
   "cell_type": "markdown",
   "metadata": {},
   "source": [
    "## Problem Statement"
   ]
  },
  {
   "cell_type": "markdown",
   "metadata": {},
   "source": [
    "Assuming $x \\in \\mathbb{Z}$. Prove\n",
    "$$\\boxed{2 \\vert (x^2 - 6x + 5) \\implies 2 \\nmid x} $$"
   ]
  },
  {
   "cell_type": "markdown",
   "metadata": {},
   "source": [
    "$$a \\vert b \\iff \\frac{b}{a} = k \\in \\mathbb{Z}$$\n",
    "$$3 \\vert 6 \\text{ is }\\textbf{True}\\text{ because } \\frac{6}{3} = 2 \\in \\mathbb{Z}$$\n",
    "$$3 \\nmid 4 \\text{ because } \\frac{4}{3} = \\boxed{1.33 \\not\\in \\mathbb{Z}}$$"
   ]
  },
  {
   "cell_type": "markdown",
   "metadata": {},
   "source": [
    "## Proof"
   ]
  },
  {
   "cell_type": "markdown",
   "metadata": {},
   "source": [
    "To submit your proof here, you have multiple options as follows:\n",
    "- Write your proof here in the notebook using LaTeX [*Preferred*]\n",
    "- Write your proof in any other application, any word processing application, and take a screenshot of your proof; then, put it here as an image\n",
    "- Write your proof by hand, and take a photo of your solution and put it here as an image [**least preferred**]<br>Make sure your write is clear enough; we would not return to ask for a clarification."
   ]
  },
  {
   "cell_type": "markdown",
   "metadata": {},
   "source": [
    "[write your proof here]\n"
   ]
  },
  {
   "cell_type": "markdown",
   "metadata": {},
   "source": [
    "# Contrapositive:\n",
    "$$\\boxed{\\thicksim 2 \\nmid x \\implies \\thicksim ~ 2 \\vert (x^2 - 6x + 5)} $$\n",
    "$$\\boxed{ 2 \\mid x \\implies  2 \\nmid (x^2 - 6x + 5)} $$\n",
    "### assuming that $2 \\mid x $ then this means that x = a*b where b=2\n",
    "### so \n",
    "* ### $ 2 \\mid a*2 \\implies  2 \\nmid ((2*a)^2 - 6(2*a) + 5) = $ \n",
    " ### $2 \\mid 2*a \\implies  2 \\nmid (4*(a)^2 - (12*a) + 5) $\n",
    "* ### $ 2 \\mid a*2 $ = True  because $ \\frac{a*2}{2} = a $ \n",
    "* ### $ 2 \\nmid (4*(a)^2 - (12*a) + 5) $ = True because $ (4*(a)^2 - (12*a) + 5) = $ odd number result 2 doesn't divide odd numbers\n",
    "### then\n",
    "* ### $\\boxed{ 2 \\mid x \\implies  2 \\nmid (x^2 - 6x + 5)} = $ True because  (T $ \\implies $ T) = T \n"
   ]
  },
  {
   "cell_type": "markdown",
   "metadata": {},
   "source": [
    "# by using numbers\n",
    "### from the latter cell assume that a = 3\n",
    "### then\n",
    "* ### $ 2 \\mid a*2 \\implies  2 \\nmid ((2*a)^2 - 6(2*a) + 5) = $ \n",
    " ### $2 \\mid 2*3 \\implies  2 \\nmid (4*(3)^2 - (12*3) + 5) $\n",
    "* ### $2 \\mid 2*3 = 2 \\mid 6 = $ True because $ \\frac{6}{2} = 3 $\n",
    "* ### $2 \\nmid (4*(3)^2 - (12*3) + 5) = 2 \\nmid (36 - 36 + 5) = 5 $ True because $ \\frac{5}{2} = 2.5 $"
   ]
  },
  {
   "cell_type": "code",
   "execution_count": null,
   "metadata": {},
   "outputs": [],
   "source": []
  }
 ],
 "metadata": {
  "kernelspec": {
   "display_name": "Python 3",
   "language": "python",
   "name": "python3"
  },
  "language_info": {
   "codemirror_mode": {
    "name": "ipython",
    "version": 3
   },
   "file_extension": ".py",
   "mimetype": "text/x-python",
   "name": "python",
   "nbconvert_exporter": "python",
   "pygments_lexer": "ipython3",
   "version": "3.8.8"
  }
 },
 "nbformat": 4,
 "nbformat_minor": 1
}
