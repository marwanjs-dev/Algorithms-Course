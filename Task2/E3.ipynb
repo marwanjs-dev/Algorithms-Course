{
 "cells": [
  {
   "cell_type": "markdown",
   "metadata": {},
   "source": [
    "# Exercise 3: Prove by Induction"
   ]
  },
  {
   "cell_type": "markdown",
   "metadata": {},
   "source": [
    "CSCI208: Analysis and Design of Algorithms<br>\n",
    "Nile University<br>\n",
    "Ammar Sherif (email: ASherif [at] nu.edu.eg, office: 229)<br>\n",
    "Module 02"
   ]
  },
  {
   "cell_type": "markdown",
   "metadata": {},
   "source": [
    "## Problem Statement"
   ]
  },
  {
   "cell_type": "markdown",
   "metadata": {},
   "source": [
    "$$\\boxed{ \\forall_{n \\geq 1} \\ 5 \\mid (8^n - 3^n)} $$"
   ]
  },
  {
   "cell_type": "markdown",
   "metadata": {},
   "source": [
    "$$a \\vert b \\iff \\frac{b}{a} = k \\in \\mathbb{Z}$$\n",
    "$$3 \\vert 6 \\text{ is }\\textbf{True}\\text{ because } \\frac{6}{3} = 2 \\in \\mathbb{Z}$$\n",
    "$$3 \\nmid 4 \\text{ because } \\frac{4}{3} = \\boxed{1.33 \\not\\in \\mathbb{Z}}$$"
   ]
  },
  {
   "cell_type": "markdown",
   "metadata": {},
   "source": [
    "## Proof"
   ]
  },
  {
   "cell_type": "markdown",
   "metadata": {},
   "source": [
    "To submit your proof here, you have multiple options as follows:\n",
    "- Write your proof here in the notebook using LaTeX [*Preferred*]\n",
    "- Write your proof in any other application, any word processing application, and take a screenshot of your proof; then, put it here as an image\n",
    "- Write your proof by hand, and take a photo of your solution and put it here as an image [**least preferred**]<br>Make sure your write is clear enough; we would not return to ask for a clarification."
   ]
  },
  {
   "cell_type": "markdown",
   "metadata": {},
   "source": [
    "[write your proof here]"
   ]
  },
  {
   "cell_type": "markdown",
   "metadata": {},
   "source": [
    "# Base Case\n",
    "* ### assuming n = 1 then $ (8^1 - 3^1) = 5 $ \n",
    "* ### $ 5 \\mid 5 = $ True because $ \\frac{5}{5} = 1$ and $ 1 \\in Z$"
   ]
  },
  {
   "cell_type": "markdown",
   "metadata": {},
   "source": [
    "# Induction\n",
    "* ### let n = k\n",
    "* ### first case: ${ \\forall_{k \\geq 1} \\ 5 \\mid (8^k - 3^k)} $\n",
    "* ### second case: ${ \\forall_{k \\geq 1} \\ 5 \\mid (8^{k+1} - 3^{k+1})} $\n",
    "* ### ${ \\forall_{k \\geq 1} \\ 5 \\mid ((8^{k}*8) - (3^{k}*3))} $\n",
    "* ### $ (5+3)8^k - 3(3^k)$\n",
    "* ### $ 5(8^k)+3(8^k) - 3(3^k)$\n",
    "* ### $ 5(8^k)+(3(8^k-3^k)) $ is True because it is already been proven that $(8^k-3^k)$ is divisible by 5 and $5(8^k)$ is divisible by 5 so $ 5(8^k)+(3(8^k-3^k)) $ is divisible by 5 "
   ]
  },
  {
   "cell_type": "code",
   "execution_count": null,
   "metadata": {},
   "outputs": [],
   "source": []
  }
 ],
 "metadata": {
  "kernelspec": {
   "display_name": "Python 3",
   "language": "python",
   "name": "python3"
  },
  "language_info": {
   "codemirror_mode": {
    "name": "ipython",
    "version": 3
   },
   "file_extension": ".py",
   "mimetype": "text/x-python",
   "name": "python",
   "nbconvert_exporter": "python",
   "pygments_lexer": "ipython3",
   "version": "3.8.8"
  }
 },
 "nbformat": 4,
 "nbformat_minor": 1
}
