{
 "cells": [
  {
   "cell_type": "markdown",
   "metadata": {},
   "source": [
    "# Exercise 4: Using Proofs in Algorithms"
   ]
  },
  {
   "cell_type": "markdown",
   "metadata": {},
   "source": [
    "CSCI208: Analysis and Design of Algorithms<br>\n",
    "Nile University<br>\n",
    "Ammar Sherif (email: ASherif [at] nu.edu.eg, office: 229)<br>\n",
    "Module 02"
   ]
  },
  {
   "cell_type": "markdown",
   "metadata": {},
   "source": [
    "## Problem Statement"
   ]
  },
  {
   "cell_type": "markdown",
   "metadata": {},
   "source": [
    "Prove that the following algorithm is correct:\n",
    "<img src=\"Insertion Sort.png\" width = 80%>"
   ]
  },
  {
   "cell_type": "code",
   "execution_count": 1,
   "metadata": {},
   "outputs": [],
   "source": [
    "def insertSort(A):\n",
    "    \"\"\"\n",
    "    The Algorithm sorts the elements in the list A\n",
    "    \n",
    "    Input constraints: A is not empty\n",
    "    \"\"\"\n",
    "    for i in range(1,len(A)):\n",
    "        j = i-1\n",
    "        while A[j]>A[j+1] and j>=0:\n",
    "            A[j],A[j+1] = A[j+1],A[j]\n",
    "            j -= 1"
   ]
  },
  {
   "cell_type": "code",
   "execution_count": 2,
   "metadata": {},
   "outputs": [
    {
     "name": "stdout",
     "output_type": "stream",
     "text": [
      "[1, 2, 3, 9, 10, 11]\n"
     ]
    }
   ],
   "source": [
    "A = [3,1,11,9,10,2]\n",
    "insertSort(A)\n",
    "print(A)"
   ]
  },
  {
   "cell_type": "markdown",
   "metadata": {},
   "source": [
    "## Proof"
   ]
  },
  {
   "cell_type": "markdown",
   "metadata": {},
   "source": [
    "### What is your Hypothesis?"
   ]
  },
  {
   "cell_type": "markdown",
   "metadata": {},
   "source": [
    "### My hypothesis is that for list of length L, InsertSort(list[L]) = sorted list, and\n",
    "$$ \\forall{n}( list[n-1] < list[n] < list[n+1] )$$ \n",
    "$$ \\text{where n is the new number, n-1 is the number before it in the list and n+1 is the number after} $$"
   ]
  },
  {
   "cell_type": "markdown",
   "metadata": {},
   "source": [
    "### Your Induction"
   ]
  },
  {
   "cell_type": "markdown",
   "metadata": {},
   "source": [
    "To submit your proof here, you have multiple options as follows:\n",
    "- Write your proof here in the notebook using LaTeX [*Preferred*]\n",
    "- Write your proof in any other application, any word processing application, and take a screenshot of your proof; then, put it here as an image\n",
    "- Write your proof by hand, and take a photo of your solution and put it here as an image [**least preferred**]<br>Make sure your write is clear enough; we would not return to ask for a clarification."
   ]
  },
  {
   "cell_type": "markdown",
   "metadata": {},
   "source": [
    "## Base Case:\n",
    "* ### $insertSort(list[n])$ where $ n = 1 $ then, the result is inserted list Because list has only one element which will always be sorted\n",
    "\n",
    "## induction\n",
    "* ### we want to show that $$ insertSort[list[L]] \\implies insertSort[list[L+1]] $$\n",
    "* ### therefore we assume that $insertSort[list]$ is True $$ insertSort[list] \\implies sorted(list) $$\n",
    "\n",
    "\n",
    "* \n",
    "\\begin{equation}\n",
    "  sorted[insertSort[list[L+1]]] =\\begin{cases}\n",
    "    index = list[L], & \\text{if $list[L]>list[L-1]$}.\\\\\n",
    "    (sorted[insertSort[list[L]], list[L+1]), & \\text{otherwise}.\n",
    "  \\end{cases}\n",
    "\\end{equation}\n",
    "* ### thus the new value is inserted to its index if its value is smaller than any element in the list otherwise it will be inserted at the end of the list\n",
    "* ### $$ = sorted[sorted[list[0], list[1],....,list[L]], list[L+1]]$$\n",
    "* ### $$ = sorted[sorted[list[0], list[1],....,list[L-1]], list[L]] $$\n",
    "* ### $$ = sorted[list[0], list[1],....,list[L]] $$\n",
    "* ### therefore InsertSort($list[L+1]$) where L is the length of the list then $list[L+1]$ is sorted because it is been proven that $list[L]$ is sorted and that$ \\forall{n}( list[n-1] < list[n] < list[n+1] )$"
   ]
  },
  {
   "cell_type": "code",
   "execution_count": null,
   "metadata": {},
   "outputs": [],
   "source": []
  }
 ],
 "metadata": {
  "kernelspec": {
   "display_name": "Python 3",
   "language": "python",
   "name": "python3"
  },
  "language_info": {
   "codemirror_mode": {
    "name": "ipython",
    "version": 3
   },
   "file_extension": ".py",
   "mimetype": "text/x-python",
   "name": "python",
   "nbconvert_exporter": "python",
   "pygments_lexer": "ipython3",
   "version": "3.8.8"
  }
 },
 "nbformat": 4,
 "nbformat_minor": 1
}
