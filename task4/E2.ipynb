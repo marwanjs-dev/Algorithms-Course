{
 "cells": [
  {
   "cell_type": "markdown",
   "metadata": {},
   "source": [
    "# Exercise 2: Maximum Profit "
   ]
  },
  {
   "cell_type": "markdown",
   "metadata": {},
   "source": [
    "CSCI208: Analysis and Design of Algorithms<br>\n",
    "Fall 2021<br>\n",
    "Nile University<br>\n",
    "Contacts: Ammar Sherif (email-ID: ASherif)<br>\n",
    "Module 04: Divide and Conquer"
   ]
  },
  {
   "cell_type": "markdown",
   "metadata": {},
   "source": [
    "## Problem Statement"
   ]
  },
  {
   "cell_type": "markdown",
   "metadata": {},
   "source": [
    "During tough times like these, investment becomes more uncertain with more dangers. To solve it, we might try to train a model to decide when to buy or sell. Therefore, to provide it with correct data, we plan to design an algorithm that answers:\n",
    "- what is the perfect moment to buy and when to sell to maximize your profit?<br>\n",
    "Assume you must buy\n",
    "\n",
    "**Input**: \n",
    "$$\\texttt{changes}:\\ \\text{array listing }\\textbf{changes in the prices}\\text{, where indices represent days; it has at least two values}$$\n",
    "**Output**:\n",
    "\\begin{align*}\n",
    "    i&: \\text{index of the change before which we buy}\\\\\n",
    "    j&: \\text{index of the change before which we sell}\\\\\n",
    "    \\texttt{maxProfit}&: \\text{the profit of this interval}\\\\\n",
    "\\end{align*}\n",
    "**Example**:<br>\n",
    "Assume the below table contains the prices of a particular stock over days\n",
    "<table>\n",
    "    <tr>\n",
    "        <th colspan=\"2\"><center>$\\texttt{prices}$</center></th>\n",
    "        <th colspan=\"1\"><center>$\\texttt{changes}$</center></th>\n",
    "    </tr>\n",
    "    <tr>\n",
    "        <th>Day</th>\n",
    "        <th>Value</th>\n",
    "        <th></th>\n",
    "    </tr>\n",
    "    <tr>\n",
    "        <td>0</td>\n",
    "        <td>50</td>\n",
    "        <td>-</td>\n",
    "    </tr>\n",
    "    <tr>\n",
    "        <td>1</td>\n",
    "        <td>63</td>\n",
    "        <td>13</td>\n",
    "    </tr>\n",
    "    <tr>\n",
    "        <td>2</td>\n",
    "        <td>70</td>\n",
    "        <td>7</td>\n",
    "    </tr>\n",
    "    <tr>\n",
    "        <td>3</td>\n",
    "        <td>40</td>\n",
    "        <td>-30</td>\n",
    "    </tr>\n",
    "    <tr>\n",
    "        <td>4</td>\n",
    "        <td>55</td>\n",
    "        <td>15</td>\n",
    "    </tr>\n",
    "    <tr>\n",
    "        <td>5</td>\n",
    "        <td>65</td>\n",
    "        <td>10</td>\n",
    "    </tr>\n",
    "    <tr>\n",
    "        <td>6</td>\n",
    "        <td>60</td>\n",
    "        <td>-5</td>\n",
    "    </tr>\n",
    "    <tr>\n",
    "        <td>7</td>\n",
    "        <td>72</td>\n",
    "        <td>12</td>\n",
    "    </tr>\n",
    "    <tr>\n",
    "        <td>8</td>\n",
    "        <td>79</td>\n",
    "        <td>7</td>\n",
    "    </tr>\n",
    "    <tr>\n",
    "        <td>9</td>\n",
    "        <td>68</td>\n",
    "        <td>-11</td>\n",
    "    </tr>\n",
    "    <tr>\n",
    "        <td>10</td>\n",
    "        <td>74</td>\n",
    "        <td>6</td>\n",
    "    </tr>\n",
    "</table>\n",
    "\n",
    "Therefore, the output of `maxProfit([13,7,-30,15,10,-5,12,7,-11,6])` should be `(3, 7, 39)` . This is because our **maximum profit** would be $\\boxed{39}$ when we buy the stock at day 4, **index** of $\\boxed{3}$, and sell after day 8, index of $\\boxed{7}$. Then, the total profit is $15+10-5+12+7 = 39$\n",
    "\n",
    "We will try to solve the problem using various techniques:\n",
    "- Brute-Force\n",
    "- Divide-and-Conquer"
   ]
  },
  {
   "cell_type": "markdown",
   "metadata": {},
   "source": [
    "### Simple Iterative\n",
    "As we in general, try to solve the problem first; we start with a **brute force**, simple, algorithm: design it below"
   ]
  },
  {
   "cell_type": "code",
   "execution_count": 20,
   "metadata": {},
   "outputs": [],
   "source": [
    "maxv = 0\n",
    "if maxv < -1000:\n",
    "    print(-1000)"
   ]
  },
  {
   "cell_type": "code",
   "execution_count": 244,
   "metadata": {},
   "outputs": [],
   "source": [
    "# write your implementation here\n",
    "def maxProfitBrute(changes):\n",
    "    \"\"\"\n",
    "    it returns the indices of (i,j) indicating the day to buy and sell respectively \n",
    "    to have the maximum profit in a list of prices per day in <changes>. \n",
    "    \n",
    "    Inputs:\n",
    "    - changes: the list holding the changes in prices; the value whose index is k represents\n",
    "               the change between day <k> and day <k+1>\n",
    "               <changes> has at least a single change [two days]\n",
    "    \n",
    "    Output:\n",
    "    - i: the index of the change before which we buy\n",
    "    - j: the index of the change after which we sell\n",
    "    - maxProfit: the value of the maximum profit\n",
    "    \n",
    "    Example:\n",
    "    changes = [1,2]\n",
    "    \n",
    "    - that means the price started with <x>;\n",
    "    - day 1: it became <x+1>\n",
    "    - day 2: it became <x+3>\n",
    "    In that case: (i,j) = (0,1) as we should buy at the first day, and sell after the third day\n",
    "    \"\"\"\n",
    "    indices = (0, len(changes)-1)\n",
    "    sumval = sum(changes)\n",
    "    for i in range(len(changes)):\n",
    "        for j in range(1, len(changes)):\n",
    "            if sum(changes[i:j]) > sumval:\n",
    "                sumval = sum(changes[i:j])\n",
    "                indices = (i,j-1)\n",
    "    return (sumval, indices)"
   ]
  },
  {
   "cell_type": "code",
   "execution_count": 245,
   "metadata": {},
   "outputs": [
    {
     "data": {
      "text/plain": [
       "(39, (3, 7))"
      ]
     },
     "execution_count": 245,
     "metadata": {},
     "output_type": "execute_result"
    }
   ],
   "source": [
    "# Try your algorithm\n",
    "maxProfitBrute([13,7,-30,15,10,-5,12,7,-11,6])"
   ]
  },
  {
   "cell_type": "markdown",
   "metadata": {},
   "source": [
    "### Divide and Conquer\n",
    "Now, we would try to use a divide and conquer paradigm. **Hint**: try the three steps, and design multiple versions to master these steps"
   ]
  },
  {
   "cell_type": "code",
   "execution_count": 129,
   "metadata": {},
   "outputs": [],
   "source": []
  },
  {
   "cell_type": "code",
   "execution_count": null,
   "metadata": {},
   "outputs": [],
   "source": [
    "\n",
    "    "
   ]
  },
  {
   "cell_type": "code",
   "execution_count": 107,
   "metadata": {},
   "outputs": [],
   "source": []
  },
  {
   "cell_type": "code",
   "execution_count": 287,
   "metadata": {},
   "outputs": [],
   "source": [
    "def MaxProfit(arr, changes, n):\n",
    "    if n == 1:\n",
    "        return changes[0], arr.index(changes[0]), arr.index(changes[0])\n",
    "    mid = n // 2\n",
    "    leftMaxSub, x, y = MaxProfit(arr,changes, mid)\n",
    "    rightMAxSub, z, w = MaxProfit(arr,changes[mid:], n-mid)\n",
    "    leftsum = [-100000000, 0, 0]\n",
    "    rightsum = [-100000000, 0, 0]\n",
    "    sumArr = 0\n",
    "    for i in range(mid, n):\n",
    "        sumArr += changes[i]\n",
    "        if sumArr > rightsum[0]:\n",
    "            rightsum = [sumArr, arr.index(changes[mid]), arr.index(changes[i])]\n",
    "    sumArr = 0\n",
    "    j = mid-1\n",
    "    while j >= 0:\n",
    "        sumArr += changes[j]\n",
    "        if sumArr > leftsum[0]:\n",
    "            leftsum = [sumArr, arr.index(changes[j]), arr.index(changes[mid])]\n",
    "        j-=1\n",
    "    if leftMaxSub > rightMAxSub:\n",
    "        output = [leftMaxSub, x, y]\n",
    "    else:\n",
    "        output = [rightMAxSub, z, w]\n",
    "    #output = max(leftMaxSubArr, rightMAxSubArr)\n",
    "    ret = [leftsum[0] + rightsum[0], leftsum[1], rightsum[2]]\n",
    "    if output[0] > ret[0]:\n",
    "        return output[0], output[1], output[2]\n",
    "    else:\n",
    "        return ret[0], ret[1], ret[2]\n",
    "    #return max(output, leftsum + rightsum)"
   ]
  },
  {
   "cell_type": "code",
   "execution_count": 288,
   "metadata": {},
   "outputs": [
    {
     "name": "stdout",
     "output_type": "stream",
     "text": [
      "(661, 5, 5)\n"
     ]
    }
   ],
   "source": [
    "x = MaxProfit([110, 202, 256, -660, -209, 661, -55, -960, -306, -498], [110, 202, 256, -660, -209, 661, -55, -960, -306, -498], len([110, 202, 256, -660, -209, 661, -55, -960, -306, -498]))\n",
    "print(x)"
   ]
  },
  {
   "cell_type": "code",
   "execution_count": 289,
   "metadata": {},
   "outputs": [
    {
     "name": "stdout",
     "output_type": "stream",
     "text": [
      "(661, (5, 5))\n"
     ]
    }
   ],
   "source": [
    "x = maxProfitBrute([110, 202, 256, -660, -209, 661, -55, -960, -306, -498])\n",
    "print(x)"
   ]
  },
  {
   "cell_type": "markdown",
   "metadata": {},
   "source": [
    "## Empirical Analysis\n",
    "Now, compare between the growth rate of the two algorithms"
   ]
  },
  {
   "cell_type": "code",
   "execution_count": 290,
   "metadata": {},
   "outputs": [],
   "source": [
    "# feel free to import what you want\n",
    "%matplotlib inline\n",
    "\n",
    "import matplotlib\n",
    "import matplotlib.pyplot as plt\n",
    "import time"
   ]
  },
  {
   "cell_type": "code",
   "execution_count": 295,
   "metadata": {},
   "outputs": [
    {
     "data": {
      "text/plain": [
       "50"
      ]
     },
     "execution_count": 295,
     "metadata": {},
     "output_type": "execute_result"
    }
   ],
   "source": [
    "import random\n",
    "lst = []\n",
    "start = -1000\n",
    "end = 1000\n",
    "for i in range(10, 60):\n",
    "    rlist = random.sample(range(start, end), i)\n",
    "    lst.append(rlist)\n",
    "len(lst)"
   ]
  },
  {
   "cell_type": "code",
   "execution_count": 297,
   "metadata": {
    "scrolled": false
   },
   "outputs": [
    {
     "data": {
      "image/png": "[encoded data removed]",
      "text/plain": [
       "<Figure size 432x288 with 1 Axes>"
      ]
     },
     "metadata": {
      "needs_background": "light"
     },
     "output_type": "display_data"
    }
   ],
   "source": [
    "times1 = []\n",
    "times2 = []\n",
    "for n in range(0, 50):\n",
    "    start_time = time.time()\n",
    "    x = maxProfitBrute(lst[n])\n",
    "    execution_time_ns = (time.time() - start_time)*(10**9)\n",
    "    times1.append(execution_time_ns)\n",
    "    \n",
    "    start_time = time.time()\n",
    "    y, z, w = MaxProfit(lst[n], lst[n], len(lst[n]))\n",
    "    execution_time_ns = (time.time() - start_time)*(10**9)\n",
    "    times2.append(execution_time_ns)\n",
    "f,ax = plt.subplots()\n",
    "ax.plot(range(50),times1,label='brute')\n",
    "ax.plot(range(50),times2,label='divide')\n",
    "ax.set_xlabel('$n$')\n",
    "ax.set_ylabel('Time: nano seconds')\n",
    "ax.set_title('Complexity of Fibonacci')\n",
    "ax.legend(loc=0);"
   ]
  },
  {
   "cell_type": "markdown",
   "metadata": {},
   "source": [
    "## Theoretical Analysis"
   ]
  },
  {
   "cell_type": "markdown",
   "metadata": {},
   "source": [
    "### Brute Force"
   ]
  },
  {
   "cell_type": "markdown",
   "metadata": {},
   "source": [
    "T(N) = n * n + c\n",
    "O(n) = n^2"
   ]
  },
  {
   "cell_type": "markdown",
   "metadata": {},
   "source": [
    "### Divide and Conquer"
   ]
  },
  {
   "cell_type": "markdown",
   "metadata": {},
   "source": [
    "T(n) = 2T(n/2)\n",
    "T(n-1) = 2(2T((n-1)/2^t))\n",
    "T(n) = O(nlog(n))"
   ]
  }
 ],
 "metadata": {
  "kernelspec": {
   "display_name": "Python 3",
   "language": "python",
   "name": "python3"
  },
  "language_info": {
   "codemirror_mode": {
    "name": "ipython",
    "version": 3
   },
   "file_extension": ".py",
   "mimetype": "text/x-python",
   "name": "python",
   "nbconvert_exporter": "python",
   "pygments_lexer": "ipython3",
   "version": "3.8.8"
  }
 },
 "nbformat": 4,
 "nbformat_minor": 1
}
