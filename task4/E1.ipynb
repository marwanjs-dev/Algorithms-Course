{
 "cells": [
  {
   "cell_type": "markdown",
   "metadata": {},
   "source": [
    "# Exercise 1: Proof of Recursive Complexity"
   ]
  },
  {
   "cell_type": "markdown",
   "metadata": {},
   "source": [
    "CSCI208: Analysis and Design of Algorithms<br>\n",
    "Fall 2021<br>\n",
    "Nile University<br>\n",
    "Contacts: Ammar Sherif (email-ID: ASherif)<br>\n",
    "Module 04: Divide and Conquer"
   ]
  },
  {
   "cell_type": "markdown",
   "metadata": {},
   "source": [
    "## Hints\n",
    "- Master Method\n",
    "- Use recursion tree to give you the intuition\n",
    "- Formulate a hypothesis and use Induction or Strong Induction to prove it\n",
    "- Use change of variables to simpilify the recurrence "
   ]
  },
  {
   "cell_type": "markdown",
   "metadata": {},
   "source": [
    "## Problem 1:"
   ]
  },
  {
   "cell_type": "markdown",
   "metadata": {},
   "source": [
    "A recursive function could be denoted as below:\n",
    "$$T(n) = T\\left(\\left\\lceil\\frac{n}{2}\\right\\rceil\\right) + 1$$\n",
    "\n",
    "**Prove** that $$\\boxed{T(n) = \\mathcal{O}(\\lg n)}$$ \n",
    "\n",
    "**Note** $\\lceil x \\rceil$ is just the ceiling function of $x$"
   ]
  },
  {
   "cell_type": "markdown",
   "metadata": {},
   "source": [
    "### Proof:"
   ]
  },
  {
   "cell_type": "markdown",
   "metadata": {},
   "source": [
    "\\mathcal{O}(\\lg n)"
   ]
  },
  {
   "cell_type": "markdown",
   "metadata": {},
   "source": [
    "$$ T(n) = T\\left(\\left\\lceil\\frac{n}{2}\\right\\rceil\\right) + 1 $$\n",
    "$$ = (T\\left(\\left\\lceil\\frac{n}{2^2}\\right\\rceil\\right) + 1) + 1 $$\n",
    "$$ = ((T\\left(\\left\\lceil\\frac{n}{2^3}\\right\\rceil\\right) + 1) + 1) + 1 $$\n",
    "$$ = (T\\left(\\left\\lceil\\frac{n}{2^k}\\right\\rceil\\right) + k $$\n",
    "$$ since \\lg_{2}{n} = k $$\n",
    "$$ let k = \\lg_{2}{n} $$\n",
    "$$ = (T\\left(\\left\\lceil\\frac{n}{\\lg n}\\right\\rceil\\right) + \\lg_{2}{n} $$\n",
    "$$ = (T(1)) + \\lg_{2}{n} $$\n",
    "$$ \\mathcal{O}{(T(1) + \\lg_{2}{n})} = \\mathcal{O}{(\\lg_{2}{n})}$$"
   ]
  },
  {
   "cell_type": "markdown",
   "metadata": {},
   "source": [
    "## Problem 2: "
   ]
  },
  {
   "cell_type": "markdown",
   "metadata": {},
   "source": [
    "A recursive function could be denoted as below:\n",
    "$$T(n) = 2T\\left(\\left\\lfloor\\sqrt{n}\\right\\rfloor\\right) + \\lg n$$\n",
    "\n",
    "**Show** the complexity of the algorithm\n",
    "\n",
    "**Note** $\\lfloor x \\rfloor$ is just the floor function of $x$"
   ]
  },
  {
   "cell_type": "markdown",
   "metadata": {},
   "source": [
    "$$T(n) = 2T\\left(\\left\\lfloor\\sqrt{n-1}\\right\\rfloor\\right) + \\lg n$$\n",
    "$$ = 2(2T\\left(\\left\\lfloor\\sqrt{n-2}\\right\\rfloor\\right) + \\lg n + \\lg n$$\n",
    "$$ = 2^2(2T\\left(\\left\\lfloor\\sqrt{n-3}\\right\\rfloor\\right) + 2\\lg n + \\lg n $$\n",
    "$$ = 2^{i-1}(2T\\left(\\left\\lfloor\\sqrt{n-(i-1)}\\right\\rfloor\\right) + i\\lg n $$\n",
    "$$ = 2^{n-1}(T_1) + n\\lg n $$\n",
    "$$ = n \\lg n$$\n",
    "$$ \\text{complexity} = \\mathcal{O}{(n \\lg{n})}$$\n"
   ]
  },
  {
   "cell_type": "markdown",
   "metadata": {},
   "source": [
    "[write your proof here]"
   ]
  }
 ],
 "metadata": {
  "kernelspec": {
   "display_name": "Python 3",
   "language": "python",
   "name": "python3"
  },
  "language_info": {
   "codemirror_mode": {
    "name": "ipython",
    "version": 3
   },
   "file_extension": ".py",
   "mimetype": "text/x-python",
   "name": "python",
   "nbconvert_exporter": "python",
   "pygments_lexer": "ipython3",
   "version": "3.8.8"
  }
 },
 "nbformat": 4,
 "nbformat_minor": 1
}
